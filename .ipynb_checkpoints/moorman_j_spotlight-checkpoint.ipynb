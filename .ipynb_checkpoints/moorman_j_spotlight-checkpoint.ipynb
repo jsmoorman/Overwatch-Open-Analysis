{
 "cells": [
  {
   "cell_type": "markdown",
   "metadata": {},
   "source": [
    "# Overwatch Open\n",
    "\n",
    "This data has been given to me coutesy of /u/Falcon_Kick.\n",
    "\n",
    "He did his own analysis at https://www.reddit.com/r/Overwatch/comments/59i3vr/overwatch_hero_meta_report_a_meta_divided"
   ]
  },
  {
   "cell_type": "code",
   "execution_count": 162,
   "metadata": {
    "collapsed": false,
    "scrolled": false
   },
   "outputs": [
    {
     "data": {
      "text/html": [
       "<div>\n",
       "<table border=\"1\" class=\"dataframe\">\n",
       "  <thead>\n",
       "    <tr style=\"text-align: right;\">\n",
       "      <th></th>\n",
       "      <th>Season</th>\n",
       "      <th>Date</th>\n",
       "      <th>Tournament</th>\n",
       "      <th>Round</th>\n",
       "      <th>Map</th>\n",
       "      <th>Side</th>\n",
       "      <th>Match Duration</th>\n",
       "      <th>Team</th>\n",
       "      <th>Attack/Defend Success?</th>\n",
       "      <th>Offense/Defense/KotH</th>\n",
       "      <th>...</th>\n",
       "      <th>Player</th>\n",
       "      <th>Hero</th>\n",
       "      <th>Hero swapped From</th>\n",
       "      <th>Swap Location</th>\n",
       "      <th>Start Time</th>\n",
       "      <th>End Time</th>\n",
       "      <th>Time Played</th>\n",
       "      <th>Match Share</th>\n",
       "      <th>Time Played (sec)</th>\n",
       "      <th>Duration Calculation Column</th>\n",
       "    </tr>\n",
       "  </thead>\n",
       "  <tbody>\n",
       "    <tr>\n",
       "      <th>0</th>\n",
       "      <td>2</td>\n",
       "      <td>9/25/2016</td>\n",
       "      <td>Overwatch Open</td>\n",
       "      <td>NA Uppper Bracket Round 2</td>\n",
       "      <td>Dorado</td>\n",
       "      <td>1</td>\n",
       "      <td>0:08:19</td>\n",
       "      <td>Liquid</td>\n",
       "      <td>No</td>\n",
       "      <td>Defense</td>\n",
       "      <td>...</td>\n",
       "      <td>IID</td>\n",
       "      <td>Mei</td>\n",
       "      <td>NaN</td>\n",
       "      <td>NaN</td>\n",
       "      <td>2:58:17</td>\n",
       "      <td>3:04:46</td>\n",
       "      <td>0:06:29</td>\n",
       "      <td>77.96%</td>\n",
       "      <td>389</td>\n",
       "      <td>0:08:19</td>\n",
       "    </tr>\n",
       "    <tr>\n",
       "      <th>1</th>\n",
       "      <td>2</td>\n",
       "      <td>9/25/2016</td>\n",
       "      <td>Overwatch Open</td>\n",
       "      <td>NA Uppper Bracket Round 2</td>\n",
       "      <td>Dorado</td>\n",
       "      <td>1</td>\n",
       "      <td>0:08:19</td>\n",
       "      <td>Liquid</td>\n",
       "      <td>No</td>\n",
       "      <td>Defense</td>\n",
       "      <td>...</td>\n",
       "      <td>Dahang</td>\n",
       "      <td>Zenyatta</td>\n",
       "      <td>NaN</td>\n",
       "      <td>NaN</td>\n",
       "      <td>2:58:17</td>\n",
       "      <td>3:06:36</td>\n",
       "      <td>0:08:19</td>\n",
       "      <td>100.00%</td>\n",
       "      <td>499</td>\n",
       "      <td>0:00:00</td>\n",
       "    </tr>\n",
       "    <tr>\n",
       "      <th>2</th>\n",
       "      <td>2</td>\n",
       "      <td>9/25/2016</td>\n",
       "      <td>Overwatch Open</td>\n",
       "      <td>NA Uppper Bracket Round 2</td>\n",
       "      <td>Dorado</td>\n",
       "      <td>1</td>\n",
       "      <td>0:08:19</td>\n",
       "      <td>Liquid</td>\n",
       "      <td>No</td>\n",
       "      <td>Defense</td>\n",
       "      <td>...</td>\n",
       "      <td>Rapha</td>\n",
       "      <td>Zarya</td>\n",
       "      <td>NaN</td>\n",
       "      <td>NaN</td>\n",
       "      <td>2:58:17</td>\n",
       "      <td>3:04:46</td>\n",
       "      <td>0:06:29</td>\n",
       "      <td>77.96%</td>\n",
       "      <td>389</td>\n",
       "      <td>0:00:00</td>\n",
       "    </tr>\n",
       "    <tr>\n",
       "      <th>3</th>\n",
       "      <td>2</td>\n",
       "      <td>9/25/2016</td>\n",
       "      <td>Overwatch Open</td>\n",
       "      <td>NA Uppper Bracket Round 2</td>\n",
       "      <td>Dorado</td>\n",
       "      <td>1</td>\n",
       "      <td>0:08:19</td>\n",
       "      <td>Liquid</td>\n",
       "      <td>No</td>\n",
       "      <td>Defense</td>\n",
       "      <td>...</td>\n",
       "      <td>Azk</td>\n",
       "      <td>McCree</td>\n",
       "      <td>NaN</td>\n",
       "      <td>NaN</td>\n",
       "      <td>2:58:17</td>\n",
       "      <td>3:04:46</td>\n",
       "      <td>0:06:29</td>\n",
       "      <td>77.96%</td>\n",
       "      <td>389</td>\n",
       "      <td>0:00:00</td>\n",
       "    </tr>\n",
       "    <tr>\n",
       "      <th>4</th>\n",
       "      <td>2</td>\n",
       "      <td>9/25/2016</td>\n",
       "      <td>Overwatch Open</td>\n",
       "      <td>NA Uppper Bracket Round 2</td>\n",
       "      <td>Dorado</td>\n",
       "      <td>1</td>\n",
       "      <td>0:08:19</td>\n",
       "      <td>Liquid</td>\n",
       "      <td>No</td>\n",
       "      <td>Defense</td>\n",
       "      <td>...</td>\n",
       "      <td>Mesr</td>\n",
       "      <td>Reinhardt</td>\n",
       "      <td>NaN</td>\n",
       "      <td>NaN</td>\n",
       "      <td>2:58:17</td>\n",
       "      <td>3:06:06</td>\n",
       "      <td>0:07:49</td>\n",
       "      <td>93.99%</td>\n",
       "      <td>469</td>\n",
       "      <td>0:00:00</td>\n",
       "    </tr>\n",
       "  </tbody>\n",
       "</table>\n",
       "<p>5 rows × 21 columns</p>\n",
       "</div>"
      ],
      "text/plain": [
       "   Season       Date      Tournament                      Round     Map  Side  \\\n",
       "0       2  9/25/2016  Overwatch Open  NA Uppper Bracket Round 2  Dorado     1   \n",
       "1       2  9/25/2016  Overwatch Open  NA Uppper Bracket Round 2  Dorado     1   \n",
       "2       2  9/25/2016  Overwatch Open  NA Uppper Bracket Round 2  Dorado     1   \n",
       "3       2  9/25/2016  Overwatch Open  NA Uppper Bracket Round 2  Dorado     1   \n",
       "4       2  9/25/2016  Overwatch Open  NA Uppper Bracket Round 2  Dorado     1   \n",
       "\n",
       "  Match Duration    Team Attack/Defend Success? Offense/Defense/KotH  \\\n",
       "0        0:08:19  Liquid                     No              Defense   \n",
       "1        0:08:19  Liquid                     No              Defense   \n",
       "2        0:08:19  Liquid                     No              Defense   \n",
       "3        0:08:19  Liquid                     No              Defense   \n",
       "4        0:08:19  Liquid                     No              Defense   \n",
       "\n",
       "              ...               Player       Hero Hero swapped From  \\\n",
       "0             ...                  IID        Mei               NaN   \n",
       "1             ...               Dahang   Zenyatta               NaN   \n",
       "2             ...                Rapha      Zarya               NaN   \n",
       "3             ...                  Azk     McCree               NaN   \n",
       "4             ...                 Mesr  Reinhardt               NaN   \n",
       "\n",
       "  Swap Location Start Time End Time Time Played Match Share Time Played (sec)  \\\n",
       "0           NaN    2:58:17  3:04:46     0:06:29      77.96%               389   \n",
       "1           NaN    2:58:17  3:06:36     0:08:19     100.00%               499   \n",
       "2           NaN    2:58:17  3:04:46     0:06:29      77.96%               389   \n",
       "3           NaN    2:58:17  3:04:46     0:06:29      77.96%               389   \n",
       "4           NaN    2:58:17  3:06:06     0:07:49      93.99%               469   \n",
       "\n",
       "   Duration Calculation Column  \n",
       "0                      0:08:19  \n",
       "1                      0:00:00  \n",
       "2                      0:00:00  \n",
       "3                      0:00:00  \n",
       "4                      0:00:00  \n",
       "\n",
       "[5 rows x 21 columns]"
      ]
     },
     "execution_count": 162,
     "metadata": {},
     "output_type": "execute_result"
    }
   ],
   "source": [
    "import pandas as pd\n",
    "\n",
    "data = pd.read_csv('TournamentData.csv')\n",
    "\n",
    "data.head()"
   ]
  },
  {
   "cell_type": "markdown",
   "metadata": {},
   "source": [
    "## Playtime\n",
    "\n",
    "Firstly, I wanted to see how much time is played on each individual hero."
   ]
  },
  {
   "cell_type": "code",
   "execution_count": 623,
   "metadata": {
    "collapsed": false,
    "scrolled": false
   },
   "outputs": [
    {
     "data": {
      "text/plain": [
       "<matplotlib.text.Annotation at 0x7a2cfe48>"
      ]
     },
     "execution_count": 623,
     "metadata": {},
     "output_type": "execute_result"
    },
    {
     "data": {
      "image/png": "[encoded data removed]",
      "text/plain": [
       "<matplotlib.figure.Figure at 0x7ae0e400>"
      ]
     },
     "metadata": {},
     "output_type": "display_data"
    }
   ],
   "source": [
    "from matplotlib.offsetbox import TextArea, DrawingArea, OffsetImage, AnnotationBbox\n",
    "\n",
    "%matplotlib inline  \n",
    "\n",
    "fig, axs = plt.subplots()\n",
    "\n",
    "hero_time = data.groupby(['Hero'])[['Time Played (sec)']].sum().sort_values('Time Played (sec)', ascending=False)\n",
    "hero_time.plot(kind='bar', ax=axs)\n",
    "\n",
    "axs.annotate(\"Dropoff\",\n",
    "            xy=(11.5, 0),\n",
    "            xytext=(10.45, 45000),\n",
    "            bbox=dict(boxstyle=\"round\", fc=\"w\"),\n",
    "            arrowprops=dict(arrowstyle=\"-\"))"
   ]
  },
  {
   "cell_type": "markdown",
   "metadata": {},
   "source": [
    "There is a very significant drop in playtime after Zenyatta, leaving 12 heroes before the drop off.\n",
    "\n",
    "We can consider these 12 \"meta\" heroes and we will be focused on them for the most part."
   ]
  },
  {
   "cell_type": "markdown",
   "metadata": {},
   "source": [
    "### Who's Missing?\n",
    "\n",
    "An interesting thing to note:\n",
    "\n",
    "There are currently 22 heroes in the roster at the time of this data collection, however, only 21 heroes appear in the data.\n",
    "Torbjorn was not played at all in this tournament."
   ]
  },
  {
   "cell_type": "code",
   "execution_count": 164,
   "metadata": {
    "collapsed": false,
    "scrolled": false
   },
   "outputs": [
    {
     "name": "stdout",
     "output_type": "stream",
     "text": [
      "1 \tMei\n",
      "2 \tZenyatta\n",
      "3 \tZarya\n",
      "4 \tMcCree\n",
      "5 \tReinhardt\n",
      "6 \tLucio\n",
      "7 \tMercy\n",
      "8 \tRoadhog\n",
      "9 \tWinston\n",
      "10 \tAna\n",
      "11 \tPharah\n",
      "12 \tTracer\n",
      "13 \tD.va\n",
      "14 \tReaper\n",
      "15 \tGenji\n",
      "16 \tBastion\n",
      "17 \tSoldier 76\n",
      "18 \tSymmetra\n",
      "19 \tHanzo\n",
      "20 \tJunkrat\n",
      "21 \tWidowmaker\n"
     ]
    },
    {
     "data": {
      "text/html": [
       "<div>\n",
       "<table border=\"1\" class=\"dataframe\">\n",
       "  <thead>\n",
       "    <tr style=\"text-align: right;\">\n",
       "      <th></th>\n",
       "      <th>Season</th>\n",
       "      <th>Date</th>\n",
       "      <th>Tournament</th>\n",
       "      <th>Round</th>\n",
       "      <th>Map</th>\n",
       "      <th>Side</th>\n",
       "      <th>Match Duration</th>\n",
       "      <th>Team</th>\n",
       "      <th>Attack/Defend Success?</th>\n",
       "      <th>Offense/Defense/KotH</th>\n",
       "      <th>...</th>\n",
       "      <th>Player</th>\n",
       "      <th>Hero</th>\n",
       "      <th>Hero swapped From</th>\n",
       "      <th>Swap Location</th>\n",
       "      <th>Start Time</th>\n",
       "      <th>End Time</th>\n",
       "      <th>Time Played</th>\n",
       "      <th>Match Share</th>\n",
       "      <th>Time Played (sec)</th>\n",
       "      <th>Duration Calculation Column</th>\n",
       "    </tr>\n",
       "  </thead>\n",
       "  <tbody>\n",
       "  </tbody>\n",
       "</table>\n",
       "<p>0 rows × 21 columns</p>\n",
       "</div>"
      ],
      "text/plain": [
       "Empty DataFrame\n",
       "Columns: [Season, Date, Tournament, Round, Map, Side, Match Duration, Team, Attack/Defend Success?, Offense/Defense/KotH, KotH: Who Captured First?, Player, Hero, Hero swapped From, Swap Location, Start Time, End Time, Time Played, Match Share, Time Played (sec), Duration Calculation Column]\n",
       "Index: []\n",
       "\n",
       "[0 rows x 21 columns]"
      ]
     },
     "execution_count": 164,
     "metadata": {},
     "output_type": "execute_result"
    }
   ],
   "source": [
    "for index, hero in enumerate(data['Hero'].unique()):\n",
    "    print index + 1, '\\t', hero\n",
    "\n",
    "data[data['Hero'] == 'Torbjorn']"
   ]
  },
  {
   "cell_type": "markdown",
   "metadata": {},
   "source": [
    "### Why?\n",
    "\n",
    "Not sure."
   ]
  },
  {
   "cell_type": "markdown",
   "metadata": {},
   "source": [
    "## Gametypes\n",
    "\n",
    "Do heroes get played more depending on the gametype?"
   ]
  },
  {
   "cell_type": "code",
   "execution_count": 627,
   "metadata": {
    "collapsed": false,
    "scrolled": false
   },
   "outputs": [
    {
     "data": {
      "text/plain": [
       "<matplotlib.axes._subplots.AxesSubplot at 0x7b6fd470>"
      ]
     },
     "execution_count": 627,
     "metadata": {},
     "output_type": "execute_result"
    },
    {
     "data": {
      "image/png": "[encoded data removed]",
      "text/plain": [
       "<matplotlib.figure.Figure at 0x7b7a4748>"
      ]
     },
     "metadata": {},
     "output_type": "display_data"
    }
   ],
   "source": [
    "HeroTimeTotal.rename(columns={'Time Played (sec)': 'Total Time Played (sec)'}, inplace=True)\n",
    "\n",
    "HeroTimeTotal['Defense Time Played (sec)'] = data[data['Offense/Defense/KotH'] == 'Defense'].groupby('Hero')['Time Played (sec)'].sum()\n",
    "HeroTimeTotal['Offense Time Played (sec)'] = data[data['Offense/Defense/KotH'] == 'Offense'].groupby('Hero')['Time Played (sec)'].sum()\n",
    "HeroTimeTotal['KotH Time Played (sec)'] = data[data['Offense/Defense/KotH'] == 'KotH'].groupby('Hero')['Time Played (sec)'].sum()\n",
    "\n",
    "HeroTimeTotal.sort_values('Total Time Played (sec)', ascending=False).nlargest(12, 'Total Time Played (sec)')[['Defense Time Played (sec)', 'Offense Time Played (sec)', 'KotH Time Played (sec)']].plot(kind='bar', figsize=[10,5])"
   ]
  },
  {
   "cell_type": "markdown",
   "metadata": {},
   "source": [
    "### Gametype Playtime Normalization\n",
    "\n",
    "Let's look again after normalizing the data to show percentage of time that hero has played in that gametype."
   ]
  },
  {
   "cell_type": "code",
   "execution_count": 628,
   "metadata": {
    "collapsed": false,
    "scrolled": false
   },
   "outputs": [
    {
     "data": {
      "text/plain": [
       "<matplotlib.axes._subplots.AxesSubplot at 0x7b6cee10>"
      ]
     },
     "execution_count": 628,
     "metadata": {},
     "output_type": "execute_result"
    },
    {
     "data": {
      "image/png": "[encoded data removed]",
      "text/plain": [
       "<matplotlib.figure.Figure at 0x7b9ae8d0>"
      ]
     },
     "metadata": {},
     "output_type": "display_data"
    }
   ],
   "source": [
    "totaldef = HeroTimeTotal['Defense Time Played (sec)']\n",
    "totaloff = HeroTimeTotal['Offense Time Played (sec)']\n",
    "totalkth = HeroTimeTotal['KotH Time Played (sec)']\n",
    "\n",
    "HeroTimeTotal['Defense %'] = totaldef.apply(lambda x: x/totaldef.sum())\n",
    "HeroTimeTotal['Offense %'] = totaloff.apply(lambda x: x/totaloff.sum())\n",
    "HeroTimeTotal['KotH %'] = totalkth.apply(lambda x: x/totalkth.sum())\n",
    "\n",
    "HeroTimeTotal.sort_values('Total Time Played (sec)', ascending=False).nlargest(12, 'Total Time Played (sec)')[['Defense %', 'Offense %', 'KotH %']].apply(lambda x: x*6*100).plot(kind='bar', figsize=[10,5])"
   ]
  },
  {
   "cell_type": "markdown",
   "metadata": {},
   "source": [
    "### Split and Organize by Gametype\n",
    "\n",
    "Take a look at the top 6 heroes for each gametype."
   ]
  },
  {
   "cell_type": "code",
   "execution_count": 471,
   "metadata": {
    "collapsed": false,
    "scrolled": false
   },
   "outputs": [
    {
     "data": {
      "text/plain": [
       "<matplotlib.axes._subplots.AxesSubplot at 0x53e69c50>"
      ]
     },
     "execution_count": 471,
     "metadata": {},
     "output_type": "execute_result"
    },
    {
     "data": {
      "image/png": "[encoded data removed]",
      "text/plain": [
       "<matplotlib.figure.Figure at 0x53584550>"
      ]
     },
     "metadata": {},
     "output_type": "display_data"
    }
   ],
   "source": [
    "import matplotlib.pyplot as plt\n",
    "\n",
    "fig, axs = plt.subplots(1, 3, sharey=True,  figsize=(24, 8))\n",
    "HeroTimeTotal.nlargest(6,'Defense %').apply(lambda x: x*6*100).plot(y='Defense %', kind='bar', ax=axs[0])\n",
    "HeroTimeTotal.nlargest(6,'Offense %').apply(lambda x: x*6*100).plot(y='Offense %', kind='bar', ax=axs[1])\n",
    "HeroTimeTotal.nlargest(6,'KotH %').apply(lambda x: x*6*100).plot(y='KotH %', kind='bar', ax=axs[2])"
   ]
  },
  {
   "cell_type": "code",
   "execution_count": 348,
   "metadata": {
    "collapsed": false
   },
   "outputs": [
    {
     "data": {
      "text/html": [
       "<div>\n",
       "<table border=\"1\" class=\"dataframe\">\n",
       "  <thead>\n",
       "    <tr style=\"text-align: right;\">\n",
       "      <th></th>\n",
       "      <th>Defense</th>\n",
       "      <th>KotH</th>\n",
       "      <th>Offense</th>\n",
       "    </tr>\n",
       "  </thead>\n",
       "  <tbody>\n",
       "    <tr>\n",
       "      <th>0</th>\n",
       "      <td>Lucio</td>\n",
       "      <td>Lucio</td>\n",
       "      <td>Lucio</td>\n",
       "    </tr>\n",
       "    <tr>\n",
       "      <th>1</th>\n",
       "      <td>Ana</td>\n",
       "      <td>Zarya</td>\n",
       "      <td>Zarya</td>\n",
       "    </tr>\n",
       "    <tr>\n",
       "      <th>2</th>\n",
       "      <td>Reinhardt</td>\n",
       "      <td>Tracer</td>\n",
       "      <td>Ana</td>\n",
       "    </tr>\n",
       "    <tr>\n",
       "      <th>3</th>\n",
       "      <td>Zarya</td>\n",
       "      <td>Winston</td>\n",
       "      <td>Reinhardt</td>\n",
       "    </tr>\n",
       "    <tr>\n",
       "      <th>4</th>\n",
       "      <td>Reaper</td>\n",
       "      <td>Reaper</td>\n",
       "      <td>Reaper</td>\n",
       "    </tr>\n",
       "    <tr>\n",
       "      <th>5</th>\n",
       "      <td>Mei</td>\n",
       "      <td>Zenyatta</td>\n",
       "      <td>Tracer</td>\n",
       "    </tr>\n",
       "  </tbody>\n",
       "</table>\n",
       "</div>"
      ],
      "text/plain": [
       "     Defense      KotH    Offense\n",
       "0      Lucio     Lucio      Lucio\n",
       "1        Ana     Zarya      Zarya\n",
       "2  Reinhardt    Tracer        Ana\n",
       "3      Zarya   Winston  Reinhardt\n",
       "4     Reaper    Reaper     Reaper\n",
       "5        Mei  Zenyatta     Tracer"
      ]
     },
     "execution_count": 348,
     "metadata": {},
     "output_type": "execute_result"
    }
   ],
   "source": [
    "pd.DataFrame({\n",
    "        'Defense': HeroTimeTotal.sort_values('Defense %', ascending=False).index.values, \n",
    "        'Offense': HeroTimeTotal.sort_values('Offense %', ascending=False).index.values, \n",
    "        'KotH': HeroTimeTotal.sort_values('KotH %', ascending=False).index.values\n",
    "    }).head(6)"
   ]
  },
  {
   "cell_type": "markdown",
   "metadata": {},
   "source": [
    "Lucio, Zarya, and Reaper are within the top 6 for all 3 gametypes.  The top 6 of each gametype also consist of 2 tanks, 2 supports, and 2 offense/defense heroes creating the popular 2/2/2 setup most players follow."
   ]
  },
  {
   "cell_type": "markdown",
   "metadata": {},
   "source": [
    "## Hero Classes\n",
    "\n",
    "So now that we see which heroes get the most play time, let's see how much time is spent on each class."
   ]
  },
  {
   "cell_type": "code",
   "execution_count": 541,
   "metadata": {
    "collapsed": false,
    "scrolled": false
   },
   "outputs": [
    {
     "data": {
      "text/plain": [
       "<matplotlib.axes._subplots.AxesSubplot at 0x62a09a90>"
      ]
     },
     "execution_count": 541,
     "metadata": {},
     "output_type": "execute_result"
    },
    {
     "data": {
      "image/png": "[encoded data removed]",
      "text/plain": [
       "<matplotlib.figure.Figure at 0x62a097b8>"
      ]
     },
     "metadata": {},
     "output_type": "display_data"
    }
   ],
   "source": [
    "hero_types = {\n",
    "    'Genji': 'Offense',\n",
    "    'McCree': 'Offense',\n",
    "    'Pharah': 'Offense',\n",
    "    'Reaper': 'Offense',\n",
    "    'Soldier 76': 'Offense',\n",
    "    'Sombra': 'Offense',\n",
    "    'Tracer': 'Offense',\n",
    "    \n",
    "    'Bastion': 'Defense',\n",
    "    'Hanzo': 'Defense',\n",
    "    'Junkrat': 'Defense',\n",
    "    'Mei': 'Defense',\n",
    "    'Torbjorn': 'Defense',\n",
    "    'Widowmaker': 'Defense',\n",
    "    \n",
    "    'D.va': 'Tank',\n",
    "    'Reinhardt': 'Tank',\n",
    "    'Roadhog': 'Tank',\n",
    "    'Winston': 'Tank',\n",
    "    'Zarya': 'Tank',\n",
    "    \n",
    "    'Ana': 'Support',\n",
    "    'Lucio': 'Support',\n",
    "    'Mercy': 'Support',\n",
    "    'Symmetra': 'Support',\n",
    "    'Zenyatta': 'Support'\n",
    "}\n",
    "\n",
    "data.groupby('Hero Class').sum().sort_values('Time Played (sec)', ascending=False).plot(kind='pie', y='Time Played (sec)', title='Percentage of Time Played', autopct='%1.1f%%', figsize=(7,7), label='')"
   ]
  },
  {
   "cell_type": "markdown",
   "metadata": {},
   "source": [
    "###  Tank > Support > Offense/Defense\n",
    "\n",
    "There seems to be a close 3 way split between tank, support, and offense/defense heroes.  This is mostly because there is an inherent 2/2/2 meta where teams run 2 tanks, 2 supports, and 2 offense/defense (dps) heroes.\n",
    "\n",
    "Let's see how this is spread over our \"meta\" heroes."
   ]
  },
  {
   "cell_type": "code",
   "execution_count": 625,
   "metadata": {
    "collapsed": false,
    "scrolled": false
   },
   "outputs": [
    {
     "data": {
      "text/plain": [
       "<seaborn.axisgrid.FacetGrid at 0x7b3b2780>"
      ]
     },
     "execution_count": 625,
     "metadata": {},
     "output_type": "execute_result"
    },
    {
     "data": {
      "image/png": "[encoded data removed]",
      "text/plain": [
       "<matplotlib.figure.Figure at 0x7b3b27b8>"
      ]
     },
     "metadata": {},
     "output_type": "display_data"
    }
   ],
   "source": [
    "data['Hero Class'] = data['Hero'].map(hero_types)\n",
    "\n",
    "time = []\n",
    "for hero in hero_time.index.values:\n",
    "    time.append(data[data['Hero'] == hero]['Time Played (sec)'].sum())\n",
    "\n",
    "wdata = pd.DataFrame({'Hero': hero_time.index.values, 'Time Played (sec)': time})\n",
    "wdata['Hero Class'] = wdata['Hero'].map(hero_types)\n",
    "\n",
    "g = sns.factorplot(x='Hero', y='Time Played (sec)', size=5, aspect=1,\n",
    "    data=wdata.nlargest(12, 'Time Played (sec)'), hue='Hero Class', kind=\"bar\", ci=None)\n",
    "g.set_xticklabels(rotation=90)"
   ]
  },
  {
   "cell_type": "markdown",
   "metadata": {},
   "source": [
    "The top 4 heroes are supports and tanks, and the next 2 are offense. \n",
    "\n",
    "The top 6 heroes follow the 2/2/2 meta so many players like to follow.\n",
    "\n",
    "Mei is the only significantly played defensive hero coming in at 8th.\n",
    "\n",
    "In the \"meta\" heroes, 4 are tanks, 3 are supports, 4 are offense, and 1 is defense. Out of the 3 supports, 2 are within the top 3 and the 3rd is 12th."
   ]
  },
  {
   "cell_type": "markdown",
   "metadata": {},
   "source": [
    "## Regions\n",
    "\n"
   ]
  },
  {
   "cell_type": "code",
   "execution_count": 193,
   "metadata": {
    "collapsed": false,
    "scrolled": true
   },
   "outputs": [
    {
     "data": {
      "text/plain": [
       "<seaborn.axisgrid.FacetGrid at 0x18c6f898>"
      ]
     },
     "execution_count": 193,
     "metadata": {},
     "output_type": "execute_result"
    },
    {
     "data": {
      "image/png": "[encoded data removed]",
      "text/plain": [
       "<matplotlib.figure.Figure at 0x108869e8>"
      ]
     },
     "metadata": {},
     "output_type": "display_data"
    }
   ],
   "source": [
    "import seaborn as sns\n",
    "\n",
    "wdata = data[['Team', 'Player', 'Map', 'Offense/Defense/KotH', 'Hero', 'Hero Class', 'Time Played (sec)']]\n",
    "l = []\n",
    "for (hclass, team), group in wdata.groupby(['Hero Class', 'Team']):\n",
    "    l.append([team, hclass, group['Time Played (sec)'].sum()])\n",
    "\n",
    "df = pd.DataFrame(l, columns=['Team', 'Hero Class', 'Time Played (sec)'])\n",
    "region_map = {\n",
    "    'Reuinited': 'EU',\n",
    "    'NiP': 'EU',\n",
    "    'Dignitas': 'EU',\n",
    "    'FaZe': 'EU',\n",
    "    \n",
    "    'Rogue': 'EU',\n",
    "    'ANOX': 'EU',\n",
    "    'Misfits': 'EU',\n",
    "    'Luminosity': 'EU',\n",
    "    \n",
    "    'EnVyUs': 'NA',\n",
    "    'Splyce': 'NA',\n",
    "    'NRG': 'NA',\n",
    "    'Liquid': 'NA',\n",
    "    \n",
    "    'Cloud9': 'NA',\n",
    "    'Method': 'NA',\n",
    "    'Fnatic': 'NA',\n",
    "    'Immortals': 'NA',\n",
    "}\n",
    "\n",
    "matches_won_map = {\n",
    "    'Reuinited': 0,\n",
    "    'NiP': 2,\n",
    "    'Dignitas': 1,\n",
    "    'FaZe': 2,\n",
    "    \n",
    "    'Rogue': 3,\n",
    "    'ANOX': 0,\n",
    "    'Misfits': 5,\n",
    "    'Luminosity': 1,\n",
    "    \n",
    "    'EnVyUs': 4,\n",
    "    'Splyce': 0,\n",
    "    'NRG': 2,\n",
    "    'Liquid': 1,\n",
    "    \n",
    "    'Cloud9': 2,\n",
    "    'Method': 1,\n",
    "    'Fnatic': 3,\n",
    "    'Immortals': 0,\n",
    "}\n",
    "\n",
    "df['Team Region'] = df['Team'].map(region_map)\n",
    "df['Wins'] = df['Team'].map(matches_won_map)\n",
    "\n",
    "g = sns.factorplot(x='Team', y='Time Played (sec)', col='Hero Class', col_wrap=4,\n",
    "    data=df.sort_values('Wins', ascending=False), hue='Team Region', kind=\"bar\")\n",
    "g.set_xticklabels(rotation=90)"
   ]
  },
  {
   "cell_type": "markdown",
   "metadata": {},
   "source": [
    "## Class Playtime by Region Normalization \n",
    "\n",
    "We need to normalize the time played on each hero since some teams have more overall playtime than others."
   ]
  },
  {
   "cell_type": "code",
   "execution_count": null,
   "metadata": {
    "collapsed": false,
    "scrolled": false
   },
   "outputs": [],
   "source": [
    "wdata = data[['Team', 'Hero', 'Hero Class', 'Time Played (sec)']]\n",
    "\n",
    "wdata['Total Team Time Played'] = wdata['Team'].apply(lambda x: wdata[wdata['Team'] == x]['Time Played (sec)'].sum())\n",
    "wdata['% Time Played'] = wdata['Time Played (sec)']/wdata['Total Team Time Played']\n",
    "\n",
    "l=[]\n",
    "for (hclass, team), group in wdata.groupby(['Hero Class', 'Team']):\n",
    "    l.append([team, hclass, group['Time Played (sec)'].sum(), group['% Time Played'].sum()])\n",
    "    \n",
    "df = pd.DataFrame(l, columns=[\n",
    "        'Team',\n",
    "        'Hero Class',\n",
    "        'Time Played (sec)',\n",
    "        '% Time Played'\n",
    "    ])\n",
    "\n",
    "df['Region'] = df['Team'].map(region_map)\n",
    "df['Wins'] = df['Team'].map(matches_won_map)\n",
    "\n",
    "g = sns.factorplot(x='Team', y='% Time Played', col='Hero Class', col_wrap=4,\n",
    "    data=df.sort_values('Wins', ascending=False), hue='Region', kind=\"bar\")\n",
    "g.set_xticklabels(rotation=75)\n",
    "\n",
    "g.axes[1].annotate(\"Dropoff\",\n",
    "            xy=(5, 0.12),\n",
    "            xytext=(5, 0.3),\n",
    "            bbox=dict(boxstyle=\"round\", fc=\"w\"),\n",
    "            arrowprops=dict(arrowstyle=\"->\"))"
   ]
  },
  {
   "cell_type": "markdown",
   "metadata": {},
   "source": [
    "3/3 Comp for NiP"
   ]
  },
  {
   "cell_type": "code",
   "execution_count": 467,
   "metadata": {
    "collapsed": false,
    "scrolled": true
   },
   "outputs": [
    {
     "data": {
      "text/html": [
       "<div>\n",
       "<table border=\"1\" class=\"dataframe\">\n",
       "  <thead>\n",
       "    <tr style=\"text-align: right;\">\n",
       "      <th></th>\n",
       "      <th>% Time Played Offense</th>\n",
       "      <th>% Time Played Defense</th>\n",
       "      <th>% Time Played Tank</th>\n",
       "      <th>% Time Played Support</th>\n",
       "    </tr>\n",
       "    <tr>\n",
       "      <th>Region</th>\n",
       "      <th></th>\n",
       "      <th></th>\n",
       "      <th></th>\n",
       "      <th></th>\n",
       "    </tr>\n",
       "  </thead>\n",
       "  <tbody>\n",
       "    <tr>\n",
       "      <th>EU</th>\n",
       "      <td>26.482957</td>\n",
       "      <td>5.698861</td>\n",
       "      <td>35.256463</td>\n",
       "      <td>32.561719</td>\n",
       "    </tr>\n",
       "    <tr>\n",
       "      <th>NA</th>\n",
       "      <td>25.262315</td>\n",
       "      <td>6.272327</td>\n",
       "      <td>35.265363</td>\n",
       "      <td>33.199994</td>\n",
       "    </tr>\n",
       "  </tbody>\n",
       "</table>\n",
       "</div>"
      ],
      "text/plain": [
       "        % Time Played Offense  % Time Played Defense  % Time Played Tank  \\\n",
       "Region                                                                     \n",
       "EU                  26.482957               5.698861           35.256463   \n",
       "NA                  25.262315               6.272327           35.265363   \n",
       "\n",
       "        % Time Played Support  \n",
       "Region                         \n",
       "EU                  32.561719  \n",
       "NA                  33.199994  "
      ]
     },
     "execution_count": 467,
     "metadata": {},
     "output_type": "execute_result"
    }
   ],
   "source": [
    "l = []\n",
    "for team, group in data.groupby('Team'): \n",
    "    l.append([\n",
    "            team,\n",
    "            group[group['Hero Class'] == 'Offense']['Time Played (sec)'].sum(),\n",
    "            group[group['Hero Class'] == 'Defense']['Time Played (sec)'].sum(),\n",
    "            group[group['Hero Class'] == 'Tank']['Time Played (sec)'].sum(),\n",
    "            group[group['Hero Class'] == 'Support']['Time Played (sec)'].sum(),\n",
    "            group['Time Played (sec)'].sum()\n",
    "        ])\n",
    "    \n",
    "Team_Class = pd.DataFrame(l, columns=[\n",
    "        'Team', \n",
    "        'Time Played Offense (sec)', \n",
    "        'Time Played Defense (sec)', \n",
    "        'Time Played Tank (sec)', \n",
    "        'Time Played Support (sec)', \n",
    "        'Total Time Played (sec)'\n",
    "    ])\n",
    "\n",
    "Team_Class['% Time Played Offense'] = Team_Class['Time Played Offense (sec)']/Team_Class['Total Time Played (sec)']*100\n",
    "Team_Class['% Time Played Defense'] = Team_Class['Time Played Defense (sec)']/Team_Class['Total Time Played (sec)']*100\n",
    "Team_Class['% Time Played Tank'] = Team_Class['Time Played Tank (sec)']/Team_Class['Total Time Played (sec)']*100\n",
    "Team_Class['% Time Played Support'] = Team_Class['Time Played Support (sec)']/Team_Class['Total Time Played (sec)']*100\n",
    "\n",
    "Team_Class['Region'] = Team_Class['Team'].map(region_map)\n",
    "\n",
    "Team_Class.groupby('Region')['% Time Played Offense','% Time Played Defense','% Time Played Tank','% Time Played Support'].mean()"
   ]
  },
  {
   "cell_type": "markdown",
   "metadata": {},
   "source": [
    "North America and Europe both prioritized tanks in their compositions, but NA shifted some of their playtime from offensive to defensive and support heroes. Although, these differences are below 1% and could be negligible."
   ]
  },
  {
   "cell_type": "code",
   "execution_count": 487,
   "metadata": {
    "collapsed": false,
    "scrolled": true
   },
   "outputs": [
    {
     "data": {
      "text/html": [
       "<div>\n",
       "<table border=\"1\" class=\"dataframe\">\n",
       "  <thead>\n",
       "    <tr style=\"text-align: right;\">\n",
       "      <th></th>\n",
       "      <th></th>\n",
       "      <th>Time Played (sec)</th>\n",
       "      <th>% Time Played</th>\n",
       "    </tr>\n",
       "    <tr>\n",
       "      <th>Hero</th>\n",
       "      <th>Team Region</th>\n",
       "      <th></th>\n",
       "      <th></th>\n",
       "    </tr>\n",
       "  </thead>\n",
       "  <tbody>\n",
       "    <tr>\n",
       "      <th rowspan=\"2\" valign=\"top\">Ana</th>\n",
       "      <th>EU</th>\n",
       "      <td>47969</td>\n",
       "      <td>75.051240</td>\n",
       "    </tr>\n",
       "    <tr>\n",
       "      <th>NA</th>\n",
       "      <td>52528</td>\n",
       "      <td>82.387816</td>\n",
       "    </tr>\n",
       "    <tr>\n",
       "      <th rowspan=\"2\" valign=\"top\">Bastion</th>\n",
       "      <th>EU</th>\n",
       "      <td>16</td>\n",
       "      <td>0.025033</td>\n",
       "    </tr>\n",
       "    <tr>\n",
       "      <th>NA</th>\n",
       "      <td>507</td>\n",
       "      <td>0.795207</td>\n",
       "    </tr>\n",
       "    <tr>\n",
       "      <th rowspan=\"2\" valign=\"top\">D.va</th>\n",
       "      <th>EU</th>\n",
       "      <td>904</td>\n",
       "      <td>1.414378</td>\n",
       "    </tr>\n",
       "    <tr>\n",
       "      <th>NA</th>\n",
       "      <td>3612</td>\n",
       "      <td>5.665260</td>\n",
       "    </tr>\n",
       "    <tr>\n",
       "      <th rowspan=\"2\" valign=\"top\">Genji</th>\n",
       "      <th>EU</th>\n",
       "      <td>21118</td>\n",
       "      <td>33.040757</td>\n",
       "    </tr>\n",
       "    <tr>\n",
       "      <th>NA</th>\n",
       "      <td>8697</td>\n",
       "      <td>13.640855</td>\n",
       "    </tr>\n",
       "    <tr>\n",
       "      <th rowspan=\"2\" valign=\"top\">Hanzo</th>\n",
       "      <th>EU</th>\n",
       "      <td>4667</td>\n",
       "      <td>7.301885</td>\n",
       "    </tr>\n",
       "    <tr>\n",
       "      <th>NA</th>\n",
       "      <td>1773</td>\n",
       "      <td>2.780871</td>\n",
       "    </tr>\n",
       "    <tr>\n",
       "      <th rowspan=\"2\" valign=\"top\">Junkrat</th>\n",
       "      <th>EU</th>\n",
       "      <td>214</td>\n",
       "      <td>0.334820</td>\n",
       "    </tr>\n",
       "    <tr>\n",
       "      <th>NA</th>\n",
       "      <td>703</td>\n",
       "      <td>1.102624</td>\n",
       "    </tr>\n",
       "    <tr>\n",
       "      <th rowspan=\"2\" valign=\"top\">Lucio</th>\n",
       "      <th>EU</th>\n",
       "      <td>61321</td>\n",
       "      <td>95.941485</td>\n",
       "    </tr>\n",
       "    <tr>\n",
       "      <th>NA</th>\n",
       "      <td>59788</td>\n",
       "      <td>93.774801</td>\n",
       "    </tr>\n",
       "    <tr>\n",
       "      <th rowspan=\"2\" valign=\"top\">McCree</th>\n",
       "      <th>EU</th>\n",
       "      <td>15769</td>\n",
       "      <td>24.671830</td>\n",
       "    </tr>\n",
       "    <tr>\n",
       "      <th>NA</th>\n",
       "      <td>15733</td>\n",
       "      <td>24.676506</td>\n",
       "    </tr>\n",
       "    <tr>\n",
       "      <th rowspan=\"2\" valign=\"top\">Mei</th>\n",
       "      <th>EU</th>\n",
       "      <td>19669</td>\n",
       "      <td>30.773684</td>\n",
       "    </tr>\n",
       "    <tr>\n",
       "      <th>NA</th>\n",
       "      <td>21304</td>\n",
       "      <td>33.414370</td>\n",
       "    </tr>\n",
       "    <tr>\n",
       "      <th rowspan=\"2\" valign=\"top\">Mercy</th>\n",
       "      <th>EU</th>\n",
       "      <td>2893</td>\n",
       "      <td>4.526324</td>\n",
       "    </tr>\n",
       "    <tr>\n",
       "      <th>NA</th>\n",
       "      <td>3494</td>\n",
       "      <td>5.480183</td>\n",
       "    </tr>\n",
       "    <tr>\n",
       "      <th rowspan=\"2\" valign=\"top\">Pharah</th>\n",
       "      <th>EU</th>\n",
       "      <td>2279</td>\n",
       "      <td>3.565673</td>\n",
       "    </tr>\n",
       "    <tr>\n",
       "      <th>NA</th>\n",
       "      <td>3484</td>\n",
       "      <td>5.464498</td>\n",
       "    </tr>\n",
       "    <tr>\n",
       "      <th rowspan=\"2\" valign=\"top\">Reaper</th>\n",
       "      <th>EU</th>\n",
       "      <td>35536</td>\n",
       "      <td>55.598842</td>\n",
       "    </tr>\n",
       "    <tr>\n",
       "      <th>NA</th>\n",
       "      <td>35086</td>\n",
       "      <td>55.030820</td>\n",
       "    </tr>\n",
       "    <tr>\n",
       "      <th rowspan=\"2\" valign=\"top\">Reinhardt</th>\n",
       "      <th>EU</th>\n",
       "      <td>42070</td>\n",
       "      <td>65.821795</td>\n",
       "    </tr>\n",
       "    <tr>\n",
       "      <th>NA</th>\n",
       "      <td>43560</td>\n",
       "      <td>68.321910</td>\n",
       "    </tr>\n",
       "    <tr>\n",
       "      <th rowspan=\"2\" valign=\"top\">Roadhog</th>\n",
       "      <th>EU</th>\n",
       "      <td>10380</td>\n",
       "      <td>16.240319</td>\n",
       "    </tr>\n",
       "    <tr>\n",
       "      <th>NA</th>\n",
       "      <td>15454</td>\n",
       "      <td>24.238907</td>\n",
       "    </tr>\n",
       "    <tr>\n",
       "      <th rowspan=\"2\" valign=\"top\">Soldier 76</th>\n",
       "      <th>EU</th>\n",
       "      <td>246</td>\n",
       "      <td>0.384886</td>\n",
       "    </tr>\n",
       "    <tr>\n",
       "      <th>NA</th>\n",
       "      <td>748</td>\n",
       "      <td>1.173205</td>\n",
       "    </tr>\n",
       "    <tr>\n",
       "      <th>Symmetra</th>\n",
       "      <th>NA</th>\n",
       "      <td>161</td>\n",
       "      <td>0.252521</td>\n",
       "    </tr>\n",
       "    <tr>\n",
       "      <th rowspan=\"2\" valign=\"top\">Tracer</th>\n",
       "      <th>EU</th>\n",
       "      <td>25102</td>\n",
       "      <td>39.274036</td>\n",
       "    </tr>\n",
       "    <tr>\n",
       "      <th>NA</th>\n",
       "      <td>30792</td>\n",
       "      <td>48.295873</td>\n",
       "    </tr>\n",
       "    <tr>\n",
       "      <th rowspan=\"2\" valign=\"top\">Widowmaker</th>\n",
       "      <th>EU</th>\n",
       "      <td>16</td>\n",
       "      <td>0.025033</td>\n",
       "    </tr>\n",
       "    <tr>\n",
       "      <th>NA</th>\n",
       "      <td>429</td>\n",
       "      <td>0.672867</td>\n",
       "    </tr>\n",
       "    <tr>\n",
       "      <th rowspan=\"2\" valign=\"top\">Winston</th>\n",
       "      <th>EU</th>\n",
       "      <td>23307</td>\n",
       "      <td>36.465618</td>\n",
       "    </tr>\n",
       "    <tr>\n",
       "      <th>NA</th>\n",
       "      <td>25804</td>\n",
       "      <td>40.472419</td>\n",
       "    </tr>\n",
       "    <tr>\n",
       "      <th rowspan=\"2\" valign=\"top\">Zarya</th>\n",
       "      <th>EU</th>\n",
       "      <td>57755</td>\n",
       "      <td>90.362200</td>\n",
       "    </tr>\n",
       "    <tr>\n",
       "      <th>NA</th>\n",
       "      <td>48712</td>\n",
       "      <td>76.402591</td>\n",
       "    </tr>\n",
       "    <tr>\n",
       "      <th rowspan=\"2\" valign=\"top\">Zenyatta</th>\n",
       "      <th>EU</th>\n",
       "      <td>12264</td>\n",
       "      <td>19.187984</td>\n",
       "    </tr>\n",
       "    <tr>\n",
       "      <th>NA</th>\n",
       "      <td>10177</td>\n",
       "      <td>15.962169</td>\n",
       "    </tr>\n",
       "  </tbody>\n",
       "</table>\n",
       "</div>"
      ],
      "text/plain": [
       "                        Time Played (sec)  % Time Played\n",
       "Hero       Team Region                                  \n",
       "Ana        EU                       47969      75.051240\n",
       "           NA                       52528      82.387816\n",
       "Bastion    EU                          16       0.025033\n",
       "           NA                         507       0.795207\n",
       "D.va       EU                         904       1.414378\n",
       "           NA                        3612       5.665260\n",
       "Genji      EU                       21118      33.040757\n",
       "           NA                        8697      13.640855\n",
       "Hanzo      EU                        4667       7.301885\n",
       "           NA                        1773       2.780871\n",
       "Junkrat    EU                         214       0.334820\n",
       "           NA                         703       1.102624\n",
       "Lucio      EU                       61321      95.941485\n",
       "           NA                       59788      93.774801\n",
       "McCree     EU                       15769      24.671830\n",
       "           NA                       15733      24.676506\n",
       "Mei        EU                       19669      30.773684\n",
       "           NA                       21304      33.414370\n",
       "Mercy      EU                        2893       4.526324\n",
       "           NA                        3494       5.480183\n",
       "Pharah     EU                        2279       3.565673\n",
       "           NA                        3484       5.464498\n",
       "Reaper     EU                       35536      55.598842\n",
       "           NA                       35086      55.030820\n",
       "Reinhardt  EU                       42070      65.821795\n",
       "           NA                       43560      68.321910\n",
       "Roadhog    EU                       10380      16.240319\n",
       "           NA                       15454      24.238907\n",
       "Soldier 76 EU                         246       0.384886\n",
       "           NA                         748       1.173205\n",
       "Symmetra   NA                         161       0.252521\n",
       "Tracer     EU                       25102      39.274036\n",
       "           NA                       30792      48.295873\n",
       "Widowmaker EU                          16       0.025033\n",
       "           NA                         429       0.672867\n",
       "Winston    EU                       23307      36.465618\n",
       "           NA                       25804      40.472419\n",
       "Zarya      EU                       57755      90.362200\n",
       "           NA                       48712      76.402591\n",
       "Zenyatta   EU                       12264      19.187984\n",
       "           NA                       10177      15.962169"
      ]
     },
     "execution_count": 487,
     "metadata": {},
     "output_type": "execute_result"
    }
   ],
   "source": [
    "data['Team Region'] = data['Team'].map(region_map)\n",
    "wdata = data.groupby(['Hero', 'Team Region'])\n",
    "l = []\n",
    "for (hero, region), group in wdata:\n",
    "    l.append(float(group['Time Played (sec)'].sum())/(data[data['Team Region'] == region]['Time Played (sec)'].sum() / 6) * 100)\n",
    "    \n",
    "wdata = wdata[['Time Played (sec)']].sum()\n",
    "wdata['Time Played (sec)']\n",
    "wdata['% Time Played'] = l\n",
    "wdata"
   ]
  },
  {
   "cell_type": "markdown",
   "metadata": {},
   "source": [
    "Ana is played 7% more in NA.\n",
    "\n",
    "Genji is played 19.5% more in EU.\n",
    "\n",
    "Lucio is played 93+% of the total time in both regions.\n",
    "\n",
    "Reinhardt is played 3% more in NA.\n",
    "\n",
    "Roadhog is played 8% more in NA.\n",
    "\n",
    "Tracer is played 9% more in NA.\n",
    "\n",
    "Winston is played 4% more in NA.\n",
    "\n",
    "Zarya is played 14% more in EU."
   ]
  },
  {
   "cell_type": "markdown",
   "metadata": {},
   "source": [
    "### Correllations between hero stats"
   ]
  },
  {
   "cell_type": "code",
   "execution_count": 497,
   "metadata": {
    "collapsed": false,
    "scrolled": false
   },
   "outputs": [
    {
     "data": {
      "text/html": [
       "<div>\n",
       "<table border=\"1\" class=\"dataframe\">\n",
       "  <thead>\n",
       "    <tr style=\"text-align: right;\">\n",
       "      <th></th>\n",
       "      <th>Offense Time (sec)</th>\n",
       "      <th>Defense Time (sec)</th>\n",
       "      <th>KotH Time (sec)</th>\n",
       "      <th>Health</th>\n",
       "      <th>Shields</th>\n",
       "      <th>Armor</th>\n",
       "      <th>Mobility</th>\n",
       "      <th>Damage Mitigation</th>\n",
       "    </tr>\n",
       "  </thead>\n",
       "  <tbody>\n",
       "    <tr>\n",
       "      <th>Offense Time (sec)</th>\n",
       "      <td>1.000000</td>\n",
       "      <td>0.943474</td>\n",
       "      <td>0.719859</td>\n",
       "      <td>0.107055</td>\n",
       "      <td>0.233003</td>\n",
       "      <td>-0.085147</td>\n",
       "      <td>0.084379</td>\n",
       "      <td>0.460034</td>\n",
       "    </tr>\n",
       "    <tr>\n",
       "      <th>Defense Time (sec)</th>\n",
       "      <td>0.943474</td>\n",
       "      <td>1.000000</td>\n",
       "      <td>0.445406</td>\n",
       "      <td>0.180471</td>\n",
       "      <td>0.069244</td>\n",
       "      <td>-0.070301</td>\n",
       "      <td>-0.032281</td>\n",
       "      <td>0.443434</td>\n",
       "    </tr>\n",
       "    <tr>\n",
       "      <th>KotH Time (sec)</th>\n",
       "      <td>0.719859</td>\n",
       "      <td>0.445406</td>\n",
       "      <td>1.000000</td>\n",
       "      <td>-0.163875</td>\n",
       "      <td>0.416658</td>\n",
       "      <td>0.032530</td>\n",
       "      <td>0.333849</td>\n",
       "      <td>0.348092</td>\n",
       "    </tr>\n",
       "    <tr>\n",
       "      <th>Health</th>\n",
       "      <td>0.107055</td>\n",
       "      <td>0.180471</td>\n",
       "      <td>-0.163875</td>\n",
       "      <td>1.000000</td>\n",
       "      <td>-0.326088</td>\n",
       "      <td>-0.069674</td>\n",
       "      <td>-0.096348</td>\n",
       "      <td>0.107502</td>\n",
       "    </tr>\n",
       "    <tr>\n",
       "      <th>Shields</th>\n",
       "      <td>0.233003</td>\n",
       "      <td>0.069244</td>\n",
       "      <td>0.416658</td>\n",
       "      <td>-0.326088</td>\n",
       "      <td>1.000000</td>\n",
       "      <td>-0.157063</td>\n",
       "      <td>-0.424514</td>\n",
       "      <td>0.092319</td>\n",
       "    </tr>\n",
       "    <tr>\n",
       "      <th>Armor</th>\n",
       "      <td>-0.085147</td>\n",
       "      <td>-0.070301</td>\n",
       "      <td>0.032530</td>\n",
       "      <td>-0.069674</td>\n",
       "      <td>-0.157063</td>\n",
       "      <td>1.000000</td>\n",
       "      <td>0.149086</td>\n",
       "      <td>0.460773</td>\n",
       "    </tr>\n",
       "    <tr>\n",
       "      <th>Mobility</th>\n",
       "      <td>0.084379</td>\n",
       "      <td>-0.032281</td>\n",
       "      <td>0.333849</td>\n",
       "      <td>-0.096348</td>\n",
       "      <td>-0.424514</td>\n",
       "      <td>0.149086</td>\n",
       "      <td>1.000000</td>\n",
       "      <td>0.356462</td>\n",
       "    </tr>\n",
       "    <tr>\n",
       "      <th>Damage Mitigation</th>\n",
       "      <td>0.460034</td>\n",
       "      <td>0.443434</td>\n",
       "      <td>0.348092</td>\n",
       "      <td>0.107502</td>\n",
       "      <td>0.092319</td>\n",
       "      <td>0.460773</td>\n",
       "      <td>0.356462</td>\n",
       "      <td>1.000000</td>\n",
       "    </tr>\n",
       "  </tbody>\n",
       "</table>\n",
       "</div>"
      ],
      "text/plain": [
       "                    Offense Time (sec)  Defense Time (sec)  KotH Time (sec)  \\\n",
       "Offense Time (sec)            1.000000            0.943474         0.719859   \n",
       "Defense Time (sec)            0.943474            1.000000         0.445406   \n",
       "KotH Time (sec)               0.719859            0.445406         1.000000   \n",
       "Health                        0.107055            0.180471        -0.163875   \n",
       "Shields                       0.233003            0.069244         0.416658   \n",
       "Armor                        -0.085147           -0.070301         0.032530   \n",
       "Mobility                      0.084379           -0.032281         0.333849   \n",
       "Damage Mitigation             0.460034            0.443434         0.348092   \n",
       "\n",
       "                      Health   Shields     Armor  Mobility  Damage Mitigation  \n",
       "Offense Time (sec)  0.107055  0.233003 -0.085147  0.084379           0.460034  \n",
       "Defense Time (sec)  0.180471  0.069244 -0.070301 -0.032281           0.443434  \n",
       "KotH Time (sec)    -0.163875  0.416658  0.032530  0.333849           0.348092  \n",
       "Health              1.000000 -0.326088 -0.069674 -0.096348           0.107502  \n",
       "Shields            -0.326088  1.000000 -0.157063 -0.424514           0.092319  \n",
       "Armor              -0.069674 -0.157063  1.000000  0.149086           0.460773  \n",
       "Mobility           -0.096348 -0.424514  0.149086  1.000000           0.356462  \n",
       "Damage Mitigation   0.107502  0.092319  0.460773  0.356462           1.000000  "
      ]
     },
     "execution_count": 497,
     "metadata": {},
     "output_type": "execute_result"
    }
   ],
   "source": [
    "wdata = data[['Hero','Time Played (sec)']]\n",
    "\n",
    "l = []\n",
    "for hero, group in wdata.groupby('Hero'):\n",
    "    l.append({'Hero': hero, 'Time Played (sec)': group['Time Played (sec)'].sum()})\n",
    "    \n",
    "wdata = pd.DataFrame(l)\n",
    "\n",
    "# [[Health, Shields, Armor], Mobility, Damage Mitigation]\n",
    "# Mobility ranked [0 - 5] with 0 being no mobility and 5 being extremely mobile\n",
    "    # Lucio is ranked at 6 because he gives mobility to all of his teammates on top of being a 5\n",
    "shields_map = {\n",
    "    'Genji': [[200, 0, 0], 5, 1],\n",
    "    'McCree': [[200, 0, 0], 1, 0],\n",
    "    'Pharah': [[200, 0, 0], 4, 0],\n",
    "    'Reaper': [[250, 0, 0], 2, 0],\n",
    "    'Soldier 76': [[200, 0, 0], 2, 0],\n",
    "    'Sombra': [[200, 0, 0], 4, 0],\n",
    "    'Tracer': [[150, 0, 0], 5, 0],\n",
    "    \n",
    "    'Bastion': [[200, 0, 100], 0, 0],\n",
    "    'Hanzo': [[200, 0, 0], 1, 0],\n",
    "    'Junkrat': [[200, 0, 0], 2, 0],\n",
    "    'Mei': [[250, 0, 0], 1, 1],\n",
    "    'Torbjorn': [[200, 0, 0], 0, 0],\n",
    "    'Widowmaker': [[200, 0, 0], 3, 0],\n",
    "    \n",
    "    'D.va': [[100, 0, 400], 4, 1],\n",
    "    'Reinhardt': [[300, 0, 200], 1, 1],\n",
    "    'Roadhog': [[600, 0, 0], 0, 0],\n",
    "    'Winston': [[400, 0, 100], 4, 1],\n",
    "    'Zarya': [[200, 200, 0], 0, 1],\n",
    "    \n",
    "    'Ana': [[200, 0, 0], 0, 0],\n",
    "    'Lucio': [[200, 0, 0], 6, 1],\n",
    "    'Mercy': [[200, 0, 0], 2, 0],\n",
    "    'Symmetra': [[100, 100, 0], 0, 0],\n",
    "    'Zenyatta': [[50, 150, 0], 0, 0]\n",
    "}\n",
    "\n",
    "# [Non-Ult Max Instant Damage, Ult Charge, Interruptable Ult]\n",
    "damage_map = {\n",
    "    'Genji': [28*3*2+30, 1200, 0],\n",
    "    'McCree': [45*6+25, 1200, 1],\n",
    "    'Pharah': [120, 1500, 1],\n",
    "    'Reaper': [7*20*2, 1500, 1],\n",
    "    'Soldier 76': [17*2+120, 1660, 0],\n",
    "    'Sombra': [16, 0, 0],\n",
    "    'Tracer': [12*2, 900, 0],\n",
    "    \n",
    "    'Bastion': [20*2, 1650, 0],\n",
    "    'Hanzo': [75*6, 1200, 0],\n",
    "    'Junkrat': [120+120+80, 1250, 1],\n",
    "    'Mei': [75*2, 1000, 0],\n",
    "    'Torbjorn': [15*10*2+14, 1300, 0],\n",
    "    'Widowmaker': [120*2.5, 1100, 0],\n",
    "    \n",
    "    'D.va': [3*8*2, 1100, 0],\n",
    "    'Reinhardt': [300+100, 1100, 0], \n",
    "    'Roadhog': [30+9*25*2, 1600, 1],\n",
    "    'Winston': [3+50, 1100, 0],\n",
    "    'Zarya': [45*2, 1500, 0],\n",
    "    \n",
    "    'Ana': [5+80+60+80, 1300, 0],\n",
    "    'Lucio': [16*2, 2100, 0],\n",
    "    'Mercy': [20*2, 1300, 0],\n",
    "    'Symmetra': [125, 800, 1],\n",
    "    'Zenyatta': [46*2, 1650, 0]\n",
    "}\n",
    "\n",
    "wdata['Offense Time (sec)'] = HeroTimeTotal['Offense Time Played (sec)'].values\n",
    "wdata['Defense Time (sec)'] = HeroTimeTotal['Defense Time Played (sec)'].values\n",
    "wdata['KotH Time (sec)'] = HeroTimeTotal['KotH Time Played (sec)'].values\n",
    "\n",
    "hsa = wdata['Hero'].map(shields_map)\n",
    "ult = wdata['Hero'].map(damage_map)\n",
    "\n",
    "wdata['Health'] = hsa.apply(lambda x: x[0][0])\n",
    "wdata['Shields'] = hsa.apply(lambda x: x[0][1])\n",
    "wdata['Armor'] = hsa.apply(lambda x: x[0][2])\n",
    "wdata['Mobility'] = hsa.apply(lambda x: x[1])\n",
    "wdata['Damage Mitigation'] = hsa.apply(lambda x: x[2])\n",
    "\n",
    "wdata['Instant Damage'] = ult.apply(lambda x: x[0])\n",
    "wdata['Ult Charge'] = ult.apply(lambda x: x[1])\n",
    "wdata['Interruptable Ult'] = ult.apply(lambda x: x[2])\n",
    "\n",
    "wdata[['Offense Time (sec)','Defense Time (sec)','KotH Time (sec)','Health','Shields','Armor','Mobility','Damage Mitigation']].corr()\n",
    "# wdata[['Offense Time (sec)','Defense Time (sec)','KotH Time (sec)','Time Played (sec)','Instant Damage','Ult Charge','Interruptable Ult']].corr()"
   ]
  },
  {
   "cell_type": "markdown",
   "metadata": {},
   "source": [
    "While it isn't strong, there is an interesting correllation between time played in KotH and the amount of shields or mobility a hero has, as well as the time played on offense and whether or not a hero has a damage mitigation skill."
   ]
  },
  {
   "cell_type": "markdown",
   "metadata": {},
   "source": [
    "### Conclusion\n",
    "\n",
    "Lucio and Zarya are very strong on all gametypes with Lucio being played about 94% and Zarya being played about 84% of the time.\n",
    "However, Zarya is played 14% more in EU than in NA.\n",
    "\n",
    "Heroes with shields and mobility are popular in KotH matches while heroes with damage mitigation are more popular on payload maps.\n",
    "\n",
    "Torbjorn is bad.\n",
    "\n",
    "#### Interesting Note\n",
    "\n",
    "NA's NiP team shifted some of their playtime from offensive heroes to tanks. This coupled with the increased playtime on Ana, Renhardt, Roadhog, and Winston in NA shows us the beginning of the 3 by 3 composition that became very popular. This may also explain the lower playtime on Zarya in the NA, where they would substitute her with another hero that benefits more from Ana ult (Roadhog/Winston)."
   ]
  }
 ],
 "metadata": {
  "anaconda-cloud": {},
  "kernelspec": {
   "display_name": "Python [conda env:cs489]",
   "language": "python",
   "name": "conda-env-cs489-py"
  },
  "language_info": {
   "codemirror_mode": {
    "name": "ipython",
    "version": 2
   },
   "file_extension": ".py",
   "mimetype": "text/x-python",
   "name": "python",
   "nbconvert_exporter": "python",
   "pygments_lexer": "ipython2",
   "version": "2.7.12"
  }
 },
 "nbformat": 4,
 "nbformat_minor": 1
}
